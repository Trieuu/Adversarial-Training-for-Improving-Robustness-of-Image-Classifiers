{
  "cells": [
    {
      "cell_type": "code",
      "execution_count": 1,
      "metadata": {
        "colab": {
          "base_uri": "https://localhost:8080/",
          "height": 72
        },
        "id": "RcRW-0S7QatP",
        "outputId": "ab31f761-b6c9-40e9-91cd-7127ec9d6bbf"
      },
      "outputs": [
        {
          "data": {
            "text/html": [
              "\n",
              "     <input type=\"file\" id=\"files-13478a12-4d2c-498f-b51b-c4fb4c267008\" name=\"files[]\" multiple disabled\n",
              "        style=\"border:none\" />\n",
              "     <output id=\"result-13478a12-4d2c-498f-b51b-c4fb4c267008\">\n",
              "      Upload widget is only available when the cell has been executed in the\n",
              "      current browser session. Please rerun this cell to enable.\n",
              "      </output>\n",
              "      <script>// Copyright 2017 Google LLC\n",
              "//\n",
              "// Licensed under the Apache License, Version 2.0 (the \"License\");\n",
              "// you may not use this file except in compliance with the License.\n",
              "// You may obtain a copy of the License at\n",
              "//\n",
              "//      http://www.apache.org/licenses/LICENSE-2.0\n",
              "//\n",
              "// Unless required by applicable law or agreed to in writing, software\n",
              "// distributed under the License is distributed on an \"AS IS\" BASIS,\n",
              "// WITHOUT WARRANTIES OR CONDITIONS OF ANY KIND, either express or implied.\n",
              "// See the License for the specific language governing permissions and\n",
              "// limitations under the License.\n",
              "\n",
              "/**\n",
              " * @fileoverview Helpers for google.colab Python module.\n",
              " */\n",
              "(function(scope) {\n",
              "function span(text, styleAttributes = {}) {\n",
              "  const element = document.createElement('span');\n",
              "  element.textContent = text;\n",
              "  for (const key of Object.keys(styleAttributes)) {\n",
              "    element.style[key] = styleAttributes[key];\n",
              "  }\n",
              "  return element;\n",
              "}\n",
              "\n",
              "// Max number of bytes which will be uploaded at a time.\n",
              "const MAX_PAYLOAD_SIZE = 100 * 1024;\n",
              "\n",
              "function _uploadFiles(inputId, outputId) {\n",
              "  const steps = uploadFilesStep(inputId, outputId);\n",
              "  const outputElement = document.getElementById(outputId);\n",
              "  // Cache steps on the outputElement to make it available for the next call\n",
              "  // to uploadFilesContinue from Python.\n",
              "  outputElement.steps = steps;\n",
              "\n",
              "  return _uploadFilesContinue(outputId);\n",
              "}\n",
              "\n",
              "// This is roughly an async generator (not supported in the browser yet),\n",
              "// where there are multiple asynchronous steps and the Python side is going\n",
              "// to poll for completion of each step.\n",
              "// This uses a Promise to block the python side on completion of each step,\n",
              "// then passes the result of the previous step as the input to the next step.\n",
              "function _uploadFilesContinue(outputId) {\n",
              "  const outputElement = document.getElementById(outputId);\n",
              "  const steps = outputElement.steps;\n",
              "\n",
              "  const next = steps.next(outputElement.lastPromiseValue);\n",
              "  return Promise.resolve(next.value.promise).then((value) => {\n",
              "    // Cache the last promise value to make it available to the next\n",
              "    // step of the generator.\n",
              "    outputElement.lastPromiseValue = value;\n",
              "    return next.value.response;\n",
              "  });\n",
              "}\n",
              "\n",
              "/**\n",
              " * Generator function which is called between each async step of the upload\n",
              " * process.\n",
              " * @param {string} inputId Element ID of the input file picker element.\n",
              " * @param {string} outputId Element ID of the output display.\n",
              " * @return {!Iterable<!Object>} Iterable of next steps.\n",
              " */\n",
              "function* uploadFilesStep(inputId, outputId) {\n",
              "  const inputElement = document.getElementById(inputId);\n",
              "  inputElement.disabled = false;\n",
              "\n",
              "  const outputElement = document.getElementById(outputId);\n",
              "  outputElement.innerHTML = '';\n",
              "\n",
              "  const pickedPromise = new Promise((resolve) => {\n",
              "    inputElement.addEventListener('change', (e) => {\n",
              "      resolve(e.target.files);\n",
              "    });\n",
              "  });\n",
              "\n",
              "  const cancel = document.createElement('button');\n",
              "  inputElement.parentElement.appendChild(cancel);\n",
              "  cancel.textContent = 'Cancel upload';\n",
              "  const cancelPromise = new Promise((resolve) => {\n",
              "    cancel.onclick = () => {\n",
              "      resolve(null);\n",
              "    };\n",
              "  });\n",
              "\n",
              "  // Wait for the user to pick the files.\n",
              "  const files = yield {\n",
              "    promise: Promise.race([pickedPromise, cancelPromise]),\n",
              "    response: {\n",
              "      action: 'starting',\n",
              "    }\n",
              "  };\n",
              "\n",
              "  cancel.remove();\n",
              "\n",
              "  // Disable the input element since further picks are not allowed.\n",
              "  inputElement.disabled = true;\n",
              "\n",
              "  if (!files) {\n",
              "    return {\n",
              "      response: {\n",
              "        action: 'complete',\n",
              "      }\n",
              "    };\n",
              "  }\n",
              "\n",
              "  for (const file of files) {\n",
              "    const li = document.createElement('li');\n",
              "    li.append(span(file.name, {fontWeight: 'bold'}));\n",
              "    li.append(span(\n",
              "        `(${file.type || 'n/a'}) - ${file.size} bytes, ` +\n",
              "        `last modified: ${\n",
              "            file.lastModifiedDate ? file.lastModifiedDate.toLocaleDateString() :\n",
              "                                    'n/a'} - `));\n",
              "    const percent = span('0% done');\n",
              "    li.appendChild(percent);\n",
              "\n",
              "    outputElement.appendChild(li);\n",
              "\n",
              "    const fileDataPromise = new Promise((resolve) => {\n",
              "      const reader = new FileReader();\n",
              "      reader.onload = (e) => {\n",
              "        resolve(e.target.result);\n",
              "      };\n",
              "      reader.readAsArrayBuffer(file);\n",
              "    });\n",
              "    // Wait for the data to be ready.\n",
              "    let fileData = yield {\n",
              "      promise: fileDataPromise,\n",
              "      response: {\n",
              "        action: 'continue',\n",
              "      }\n",
              "    };\n",
              "\n",
              "    // Use a chunked sending to avoid message size limits. See b/62115660.\n",
              "    let position = 0;\n",
              "    do {\n",
              "      const length = Math.min(fileData.byteLength - position, MAX_PAYLOAD_SIZE);\n",
              "      const chunk = new Uint8Array(fileData, position, length);\n",
              "      position += length;\n",
              "\n",
              "      const base64 = btoa(String.fromCharCode.apply(null, chunk));\n",
              "      yield {\n",
              "        response: {\n",
              "          action: 'append',\n",
              "          file: file.name,\n",
              "          data: base64,\n",
              "        },\n",
              "      };\n",
              "\n",
              "      let percentDone = fileData.byteLength === 0 ?\n",
              "          100 :\n",
              "          Math.round((position / fileData.byteLength) * 100);\n",
              "      percent.textContent = `${percentDone}% done`;\n",
              "\n",
              "    } while (position < fileData.byteLength);\n",
              "  }\n",
              "\n",
              "  // All done.\n",
              "  yield {\n",
              "    response: {\n",
              "      action: 'complete',\n",
              "    }\n",
              "  };\n",
              "}\n",
              "\n",
              "scope.google = scope.google || {};\n",
              "scope.google.colab = scope.google.colab || {};\n",
              "scope.google.colab._files = {\n",
              "  _uploadFiles,\n",
              "  _uploadFilesContinue,\n",
              "};\n",
              "})(self);\n",
              "</script> "
            ],
            "text/plain": [
              "<IPython.core.display.HTML object>"
            ]
          },
          "metadata": {},
          "output_type": "display_data"
        },
        {
          "name": "stdout",
          "output_type": "stream",
          "text": [
            "Saving adv_mnv3_cifar100.zip to adv_mnv3_cifar100.zip\n"
          ]
        }
      ],
      "source": [
        "from google.colab import files\n",
        "uploaded = files.upload()   # choose your adv_mnv3_cifar100.zip"
      ]
    },
    {
      "cell_type": "code",
      "execution_count": 2,
      "metadata": {
        "colab": {
          "base_uri": "https://localhost:8080/"
        },
        "id": "dLfVHHxVQkTG",
        "outputId": "3b1a8d19-06d2-4951-e650-bbba130c6ade"
      },
      "outputs": [
        {
          "name": "stdout",
          "output_type": "stream",
          "text": [
            "Archive:  adv_mnv3_cifar100.zip\n",
            "   creating: adv_mnv3_cifar100/adv_mnv3_cifar100/\n",
            "   creating: adv_mnv3_cifar100/adv_mnv3_cifar100/attacks/\n",
            "  inflating: adv_mnv3_cifar100/adv_mnv3_cifar100/attacks/fgsm.py  \n",
            "  inflating: adv_mnv3_cifar100/adv_mnv3_cifar100/attacks/__init__.py  \n",
            "   creating: adv_mnv3_cifar100/adv_mnv3_cifar100/attacks/__pycache__/\n",
            "  inflating: adv_mnv3_cifar100/adv_mnv3_cifar100/attacks/__pycache__/fgsm.cpython-310.pyc  \n",
            "  inflating: adv_mnv3_cifar100/adv_mnv3_cifar100/attacks/__pycache__/__init__.cpython-310.pyc  \n",
            "  inflating: adv_mnv3_cifar100/adv_mnv3_cifar100/cifar100_data.py  \n",
            "   creating: adv_mnv3_cifar100/adv_mnv3_cifar100/engine/\n",
            "  inflating: adv_mnv3_cifar100/adv_mnv3_cifar100/engine/evaluate.py  \n",
            "  inflating: adv_mnv3_cifar100/adv_mnv3_cifar100/engine/trainers.py  \n",
            "  inflating: adv_mnv3_cifar100/adv_mnv3_cifar100/engine/__init__.py  \n",
            "   creating: adv_mnv3_cifar100/adv_mnv3_cifar100/engine/__pycache__/\n",
            "  inflating: adv_mnv3_cifar100/adv_mnv3_cifar100/engine/__pycache__/evaluate.cpython-310.pyc  \n",
            "  inflating: adv_mnv3_cifar100/adv_mnv3_cifar100/engine/__pycache__/trainers.cpython-310.pyc  \n",
            "  inflating: adv_mnv3_cifar100/adv_mnv3_cifar100/engine/__pycache__/__init__.cpython-310.pyc  \n",
            "   creating: adv_mnv3_cifar100/adv_mnv3_cifar100/losses/\n",
            "  inflating: adv_mnv3_cifar100/adv_mnv3_cifar100/losses/losses.py  \n",
            "  inflating: adv_mnv3_cifar100/adv_mnv3_cifar100/losses/__init__.py  \n",
            "   creating: adv_mnv3_cifar100/adv_mnv3_cifar100/losses/__pycache__/\n",
            "  inflating: adv_mnv3_cifar100/adv_mnv3_cifar100/losses/__pycache__/losses.cpython-310.pyc  \n",
            "  inflating: adv_mnv3_cifar100/adv_mnv3_cifar100/losses/__pycache__/__init__.cpython-310.pyc  \n",
            "   creating: adv_mnv3_cifar100/adv_mnv3_cifar100/models/\n",
            "  inflating: adv_mnv3_cifar100/adv_mnv3_cifar100/models/mobilenetv3.py  \n",
            "  inflating: adv_mnv3_cifar100/adv_mnv3_cifar100/models/__init__.py  \n",
            "   creating: adv_mnv3_cifar100/adv_mnv3_cifar100/models/__pycache__/\n",
            "  inflating: adv_mnv3_cifar100/adv_mnv3_cifar100/models/__pycache__/mobilenetv3.cpython-310.pyc  \n",
            "  inflating: adv_mnv3_cifar100/adv_mnv3_cifar100/models/__pycache__/__init__.cpython-310.pyc  \n",
            "  inflating: adv_mnv3_cifar100/adv_mnv3_cifar100/requirements.txt  \n",
            "   creating: adv_mnv3_cifar100/adv_mnv3_cifar100/scripts/\n",
            "  inflating: adv_mnv3_cifar100/adv_mnv3_cifar100/scripts/train_adv.py  \n",
            "  inflating: adv_mnv3_cifar100/adv_mnv3_cifar100/scripts/train_baseline.py  \n",
            "  inflating: adv_mnv3_cifar100/adv_mnv3_cifar100/scripts/__init__.py  \n",
            "   creating: adv_mnv3_cifar100/adv_mnv3_cifar100/scripts/__pycache__/\n",
            "  inflating: adv_mnv3_cifar100/adv_mnv3_cifar100/scripts/__pycache__/train_baseline.cpython-310.pyc  \n",
            "  inflating: adv_mnv3_cifar100/adv_mnv3_cifar100/scripts/__pycache__/__init__.cpython-310.pyc  \n",
            "   creating: adv_mnv3_cifar100/adv_mnv3_cifar100/utils/\n",
            "  inflating: adv_mnv3_cifar100/adv_mnv3_cifar100/utils/norm.py  \n",
            "  inflating: adv_mnv3_cifar100/adv_mnv3_cifar100/utils/seed.py  \n",
            "  inflating: adv_mnv3_cifar100/adv_mnv3_cifar100/utils/__init__.py  \n",
            "   creating: adv_mnv3_cifar100/adv_mnv3_cifar100/utils/__pycache__/\n",
            "  inflating: adv_mnv3_cifar100/adv_mnv3_cifar100/utils/__pycache__/norm.cpython-310.pyc  \n",
            "  inflating: adv_mnv3_cifar100/adv_mnv3_cifar100/utils/__pycache__/seed.cpython-310.pyc  \n",
            "  inflating: adv_mnv3_cifar100/adv_mnv3_cifar100/utils/__pycache__/__init__.cpython-310.pyc  \n",
            "/content/adv_mnv3_cifar100\n"
          ]
        }
      ],
      "source": [
        "!unzip adv_mnv3_cifar100.zip -d adv_mnv3_cifar100\n",
        "%cd adv_mnv3_cifar100"
      ]
    },
    {
      "cell_type": "code",
      "execution_count": 3,
      "metadata": {
        "colab": {
          "base_uri": "https://localhost:8080/"
        },
        "id": "erNIKwEgQv53",
        "outputId": "cf6c9843-a72f-42f1-95a1-516e2b00d446"
      },
      "outputs": [
        {
          "name": "stdout",
          "output_type": "stream",
          "text": [
            "Requirement already satisfied: pip in /usr/local/lib/python3.12/dist-packages (24.1.2)\n",
            "Collecting pip\n",
            "  Downloading pip-25.2-py3-none-any.whl.metadata (4.7 kB)\n",
            "Downloading pip-25.2-py3-none-any.whl (1.8 MB)\n",
            "\u001b[?25l   \u001b[90m━━━━━━━━━━━━━━━━━━━━━━━━━━━━━━━━━━━━━━━━\u001b[0m \u001b[32m0.0/1.8 MB\u001b[0m \u001b[31m?\u001b[0m eta \u001b[36m-:--:--\u001b[0m\r\u001b[2K   \u001b[90m━━━━━━━━━━━━━━━━━━━━━━━━━━━━━━━━━━━━━━━━\u001b[0m \u001b[32m1.8/1.8 MB\u001b[0m \u001b[31m78.4 MB/s\u001b[0m eta \u001b[36m0:00:00\u001b[0m\n",
            "\u001b[?25hInstalling collected packages: pip\n",
            "  Attempting uninstall: pip\n",
            "    Found existing installation: pip 24.1.2\n",
            "    Uninstalling pip-24.1.2:\n",
            "      Successfully uninstalled pip-24.1.2\n",
            "Successfully installed pip-25.2\n"
          ]
        }
      ],
      "source": [
        "!pip install --upgrade pip"
      ]
    },
    {
      "cell_type": "code",
      "execution_count": 4,
      "metadata": {
        "colab": {
          "base_uri": "https://localhost:8080/"
        },
        "id": "eEQIL7KuRIz6",
        "outputId": "4b839f7e-e497-4f78-a07b-d3c61c3cf20f"
      },
      "outputs": [
        {
          "name": "stdout",
          "output_type": "stream",
          "text": [
            "/content/adv_mnv3_cifar100/adv_mnv3_cifar100\n"
          ]
        }
      ],
      "source": [
        "%cd adv_mnv3_cifar100"
      ]
    },
    {
      "cell_type": "code",
      "execution_count": 5,
      "metadata": {
        "colab": {
          "base_uri": "https://localhost:8080/"
        },
        "id": "rrpGlb8iQ1q4",
        "outputId": "26bc335b-18d6-4396-fd8f-5c5292f3bde8"
      },
      "outputs": [
        {
          "name": "stdout",
          "output_type": "stream",
          "text": [
            "Requirement already satisfied: torch in /usr/local/lib/python3.12/dist-packages (from -r requirements.txt (line 2)) (2.8.0+cu126)\n",
            "Requirement already satisfied: torchvision in /usr/local/lib/python3.12/dist-packages (from -r requirements.txt (line 3)) (0.23.0+cu126)\n",
            "Requirement already satisfied: timm>=0.9.2 in /usr/local/lib/python3.12/dist-packages (from -r requirements.txt (line 6)) (1.0.19)\n",
            "Collecting pytorch-lightning>=2.0.0 (from -r requirements.txt (line 9))\n",
            "  Downloading pytorch_lightning-2.5.3-py3-none-any.whl.metadata (20 kB)\n",
            "Requirement already satisfied: numpy in /usr/local/lib/python3.12/dist-packages (from -r requirements.txt (line 12)) (2.0.2)\n",
            "Requirement already satisfied: filelock in /usr/local/lib/python3.12/dist-packages (from torch->-r requirements.txt (line 2)) (3.19.1)\n",
            "Requirement already satisfied: typing-extensions>=4.10.0 in /usr/local/lib/python3.12/dist-packages (from torch->-r requirements.txt (line 2)) (4.14.1)\n",
            "Requirement already satisfied: setuptools in /usr/local/lib/python3.12/dist-packages (from torch->-r requirements.txt (line 2)) (75.2.0)\n",
            "Requirement already satisfied: sympy>=1.13.3 in /usr/local/lib/python3.12/dist-packages (from torch->-r requirements.txt (line 2)) (1.13.3)\n",
            "Requirement already satisfied: networkx in /usr/local/lib/python3.12/dist-packages (from torch->-r requirements.txt (line 2)) (3.5)\n",
            "Requirement already satisfied: jinja2 in /usr/local/lib/python3.12/dist-packages (from torch->-r requirements.txt (line 2)) (3.1.6)\n",
            "Requirement already satisfied: fsspec in /usr/local/lib/python3.12/dist-packages (from torch->-r requirements.txt (line 2)) (2025.3.0)\n",
            "Requirement already satisfied: nvidia-cuda-nvrtc-cu12==12.6.77 in /usr/local/lib/python3.12/dist-packages (from torch->-r requirements.txt (line 2)) (12.6.77)\n",
            "Requirement already satisfied: nvidia-cuda-runtime-cu12==12.6.77 in /usr/local/lib/python3.12/dist-packages (from torch->-r requirements.txt (line 2)) (12.6.77)\n",
            "Requirement already satisfied: nvidia-cuda-cupti-cu12==12.6.80 in /usr/local/lib/python3.12/dist-packages (from torch->-r requirements.txt (line 2)) (12.6.80)\n",
            "Requirement already satisfied: nvidia-cudnn-cu12==9.10.2.21 in /usr/local/lib/python3.12/dist-packages (from torch->-r requirements.txt (line 2)) (9.10.2.21)\n",
            "Requirement already satisfied: nvidia-cublas-cu12==12.6.4.1 in /usr/local/lib/python3.12/dist-packages (from torch->-r requirements.txt (line 2)) (12.6.4.1)\n",
            "Requirement already satisfied: nvidia-cufft-cu12==11.3.0.4 in /usr/local/lib/python3.12/dist-packages (from torch->-r requirements.txt (line 2)) (11.3.0.4)\n",
            "Requirement already satisfied: nvidia-curand-cu12==10.3.7.77 in /usr/local/lib/python3.12/dist-packages (from torch->-r requirements.txt (line 2)) (10.3.7.77)\n",
            "Requirement already satisfied: nvidia-cusolver-cu12==11.7.1.2 in /usr/local/lib/python3.12/dist-packages (from torch->-r requirements.txt (line 2)) (11.7.1.2)\n",
            "Requirement already satisfied: nvidia-cusparse-cu12==12.5.4.2 in /usr/local/lib/python3.12/dist-packages (from torch->-r requirements.txt (line 2)) (12.5.4.2)\n",
            "Requirement already satisfied: nvidia-cusparselt-cu12==0.7.1 in /usr/local/lib/python3.12/dist-packages (from torch->-r requirements.txt (line 2)) (0.7.1)\n",
            "Requirement already satisfied: nvidia-nccl-cu12==2.27.3 in /usr/local/lib/python3.12/dist-packages (from torch->-r requirements.txt (line 2)) (2.27.3)\n",
            "Requirement already satisfied: nvidia-nvtx-cu12==12.6.77 in /usr/local/lib/python3.12/dist-packages (from torch->-r requirements.txt (line 2)) (12.6.77)\n",
            "Requirement already satisfied: nvidia-nvjitlink-cu12==12.6.85 in /usr/local/lib/python3.12/dist-packages (from torch->-r requirements.txt (line 2)) (12.6.85)\n",
            "Requirement already satisfied: nvidia-cufile-cu12==1.11.1.6 in /usr/local/lib/python3.12/dist-packages (from torch->-r requirements.txt (line 2)) (1.11.1.6)\n",
            "Requirement already satisfied: triton==3.4.0 in /usr/local/lib/python3.12/dist-packages (from torch->-r requirements.txt (line 2)) (3.4.0)\n",
            "Requirement already satisfied: pillow!=8.3.*,>=5.3.0 in /usr/local/lib/python3.12/dist-packages (from torchvision->-r requirements.txt (line 3)) (11.3.0)\n",
            "Requirement already satisfied: pyyaml in /usr/local/lib/python3.12/dist-packages (from timm>=0.9.2->-r requirements.txt (line 6)) (6.0.2)\n",
            "Requirement already satisfied: huggingface_hub in /usr/local/lib/python3.12/dist-packages (from timm>=0.9.2->-r requirements.txt (line 6)) (0.34.4)\n",
            "Requirement already satisfied: safetensors in /usr/local/lib/python3.12/dist-packages (from timm>=0.9.2->-r requirements.txt (line 6)) (0.6.2)\n",
            "Requirement already satisfied: tqdm>=4.57.0 in /usr/local/lib/python3.12/dist-packages (from pytorch-lightning>=2.0.0->-r requirements.txt (line 9)) (4.67.1)\n",
            "Collecting torchmetrics>0.7.0 (from pytorch-lightning>=2.0.0->-r requirements.txt (line 9))\n",
            "  Downloading torchmetrics-1.8.1-py3-none-any.whl.metadata (22 kB)\n",
            "Requirement already satisfied: packaging>=20.0 in /usr/local/lib/python3.12/dist-packages (from pytorch-lightning>=2.0.0->-r requirements.txt (line 9)) (25.0)\n",
            "Collecting lightning-utilities>=0.10.0 (from pytorch-lightning>=2.0.0->-r requirements.txt (line 9))\n",
            "  Downloading lightning_utilities-0.15.2-py3-none-any.whl.metadata (5.7 kB)\n",
            "Requirement already satisfied: aiohttp!=4.0.0a0,!=4.0.0a1 in /usr/local/lib/python3.12/dist-packages (from fsspec[http]>=2022.5.0->pytorch-lightning>=2.0.0->-r requirements.txt (line 9)) (3.12.15)\n",
            "Requirement already satisfied: aiohappyeyeballs>=2.5.0 in /usr/local/lib/python3.12/dist-packages (from aiohttp!=4.0.0a0,!=4.0.0a1->fsspec[http]>=2022.5.0->pytorch-lightning>=2.0.0->-r requirements.txt (line 9)) (2.6.1)\n",
            "Requirement already satisfied: aiosignal>=1.4.0 in /usr/local/lib/python3.12/dist-packages (from aiohttp!=4.0.0a0,!=4.0.0a1->fsspec[http]>=2022.5.0->pytorch-lightning>=2.0.0->-r requirements.txt (line 9)) (1.4.0)\n",
            "Requirement already satisfied: attrs>=17.3.0 in /usr/local/lib/python3.12/dist-packages (from aiohttp!=4.0.0a0,!=4.0.0a1->fsspec[http]>=2022.5.0->pytorch-lightning>=2.0.0->-r requirements.txt (line 9)) (25.3.0)\n",
            "Requirement already satisfied: frozenlist>=1.1.1 in /usr/local/lib/python3.12/dist-packages (from aiohttp!=4.0.0a0,!=4.0.0a1->fsspec[http]>=2022.5.0->pytorch-lightning>=2.0.0->-r requirements.txt (line 9)) (1.7.0)\n",
            "Requirement already satisfied: multidict<7.0,>=4.5 in /usr/local/lib/python3.12/dist-packages (from aiohttp!=4.0.0a0,!=4.0.0a1->fsspec[http]>=2022.5.0->pytorch-lightning>=2.0.0->-r requirements.txt (line 9)) (6.6.4)\n",
            "Requirement already satisfied: propcache>=0.2.0 in /usr/local/lib/python3.12/dist-packages (from aiohttp!=4.0.0a0,!=4.0.0a1->fsspec[http]>=2022.5.0->pytorch-lightning>=2.0.0->-r requirements.txt (line 9)) (0.3.2)\n",
            "Requirement already satisfied: yarl<2.0,>=1.17.0 in /usr/local/lib/python3.12/dist-packages (from aiohttp!=4.0.0a0,!=4.0.0a1->fsspec[http]>=2022.5.0->pytorch-lightning>=2.0.0->-r requirements.txt (line 9)) (1.20.1)\n",
            "Requirement already satisfied: idna>=2.0 in /usr/local/lib/python3.12/dist-packages (from yarl<2.0,>=1.17.0->aiohttp!=4.0.0a0,!=4.0.0a1->fsspec[http]>=2022.5.0->pytorch-lightning>=2.0.0->-r requirements.txt (line 9)) (3.10)\n",
            "Requirement already satisfied: mpmath<1.4,>=1.1.0 in /usr/local/lib/python3.12/dist-packages (from sympy>=1.13.3->torch->-r requirements.txt (line 2)) (1.3.0)\n",
            "Requirement already satisfied: requests in /usr/local/lib/python3.12/dist-packages (from huggingface_hub->timm>=0.9.2->-r requirements.txt (line 6)) (2.32.4)\n",
            "Requirement already satisfied: hf-xet<2.0.0,>=1.1.3 in /usr/local/lib/python3.12/dist-packages (from huggingface_hub->timm>=0.9.2->-r requirements.txt (line 6)) (1.1.7)\n",
            "Requirement already satisfied: MarkupSafe>=2.0 in /usr/local/lib/python3.12/dist-packages (from jinja2->torch->-r requirements.txt (line 2)) (3.0.2)\n",
            "Requirement already satisfied: charset_normalizer<4,>=2 in /usr/local/lib/python3.12/dist-packages (from requests->huggingface_hub->timm>=0.9.2->-r requirements.txt (line 6)) (3.4.3)\n",
            "Requirement already satisfied: urllib3<3,>=1.21.1 in /usr/local/lib/python3.12/dist-packages (from requests->huggingface_hub->timm>=0.9.2->-r requirements.txt (line 6)) (2.5.0)\n",
            "Requirement already satisfied: certifi>=2017.4.17 in /usr/local/lib/python3.12/dist-packages (from requests->huggingface_hub->timm>=0.9.2->-r requirements.txt (line 6)) (2025.8.3)\n",
            "Downloading pytorch_lightning-2.5.3-py3-none-any.whl (828 kB)\n",
            "\u001b[2K   \u001b[90m━━━━━━━━━━━━━━━━━━━━━━━━━━━━━━━━━━━━━━━━\u001b[0m \u001b[32m828.2/828.2 kB\u001b[0m \u001b[31m17.5 MB/s\u001b[0m  \u001b[33m0:00:00\u001b[0m\n",
            "\u001b[?25hDownloading lightning_utilities-0.15.2-py3-none-any.whl (29 kB)\n",
            "Downloading torchmetrics-1.8.1-py3-none-any.whl (982 kB)\n",
            "\u001b[2K   \u001b[90m━━━━━━━━━━━━━━━━━━━━━━━━━━━━━━━━━━━━━━━━\u001b[0m \u001b[32m983.0/983.0 kB\u001b[0m \u001b[31m35.1 MB/s\u001b[0m  \u001b[33m0:00:00\u001b[0m\n",
            "\u001b[?25hInstalling collected packages: lightning-utilities, torchmetrics, pytorch-lightning\n",
            "\u001b[2K   \u001b[90m━━━━━━━━━━━━━━━━━━━━━━━━━━━━━━━━━━━━━━━━\u001b[0m \u001b[32m3/3\u001b[0m [pytorch-lightning]\n",
            "\u001b[1A\u001b[2KSuccessfully installed lightning-utilities-0.15.2 pytorch-lightning-2.5.3 torchmetrics-1.8.1\n"
          ]
        }
      ],
      "source": [
        "!pip install -r requirements.txt"
      ]
    },
    {
      "cell_type": "code",
      "execution_count": 7,
      "metadata": {
        "colab": {
          "base_uri": "https://localhost:8080/"
        },
        "id": "ZA59Xq-ERepD",
        "outputId": "b069ef95-99af-4b5a-9a23-f9777935e67e"
      },
      "outputs": [
        {
          "name": "stdout",
          "output_type": "stream",
          "text": [
            "Init from ImageNet-pretrained weights.\n",
            "[Adv Epoch 1/10] loss=2.2521  clean@1=66.64 clean@5=92.05  fgsm@1=52.34 fgsm@5=85.16\n",
            "[Adv Epoch 2/10] loss=1.3590  clean@1=71.13 clean@5=93.61  fgsm@1=58.32 fgsm@5=88.41\n",
            "[Adv Epoch 3/10] loss=1.1295  clean@1=71.74 clean@5=93.92  fgsm@1=58.43 fgsm@5=88.87\n",
            "[Adv Epoch 4/10] loss=0.9864  clean@1=71.19 clean@5=92.86  fgsm@1=57.66 fgsm@5=87.89\n",
            "[Adv Epoch 5/10] loss=0.8603  clean@1=66.35 clean@5=90.44  fgsm@1=54.41 fgsm@5=84.45\n",
            "[Adv Epoch 6/10] loss=0.7527  clean@1=45.58 clean@5=75.13  fgsm@1=35.13 fgsm@5=66.82\n",
            "[Adv Epoch 7/10] loss=0.6645  clean@1=77.86 clean@5=95.46  fgsm@1=64.68 fgsm@5=91.55\n",
            "[Adv Epoch 8/10] loss=0.5935  clean@1=77.35 clean@5=95.36  fgsm@1=65.09 fgsm@5=91.55\n",
            "[Adv Epoch 9/10] loss=0.5376  clean@1=80.28 clean@5=96.56  fgsm@1=68.66 fgsm@5=93.66\n",
            "[Adv Epoch 10/10] loss=0.5134  clean@1=80.32 clean@5=96.65  fgsm@1=68.94 fgsm@5=93.60\n",
            "                                                                       \n",
            "=== Results (Top-1/Top-5 %) ===\n",
            "Model                      Clean@1 Clean@5 FGSM@1 FGSM@5\n",
            "MobileNetV3 Baseline         82.97   97.25   20.93   70.62\n",
            "MobileNetV3 Adv.Trained      80.32   96.65   68.94   93.60\n"
          ]
        }
      ],
      "source": [
        "!python -m scripts.train_adv --epochs_adv 10 --lr 1e-3 --eps 0.0078431373 --adv_ratio 0.5 --init imagenet"
      ]
    },
    {
      "cell_type": "code",
      "execution_count": 7,
      "metadata": {
        "id": "jDCf5K9yofUV"
      },
      "outputs": [],
      "source": []
    }
  ],
  "metadata": {
    "accelerator": "GPU",
    "colab": {
      "gpuType": "T4",
      "provenance": []
    },
    "kernelspec": {
      "display_name": "Python 3",
      "name": "python3"
    },
    "language_info": {
      "name": "python"
    }
  },
  "nbformat": 4,
  "nbformat_minor": 0
}
